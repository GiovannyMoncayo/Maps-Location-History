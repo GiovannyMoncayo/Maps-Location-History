{
 "cells": [
  {
   "cell_type": "code",
   "execution_count": 233,
   "metadata": {
    "ExecuteTime": {
     "end_time": "2017-04-18T23:27:37.590169Z",
     "start_time": "2017-04-18T16:27:37.580644-07:00"
    },
    "collapsed": true
   },
   "outputs": [],
   "source": [
    "import matplotlib.pyplot as plt\n",
    "import seaborn as sns\n",
    "import pandas as pd\n",
    "import numpy as np\n",
    "import process_location\n",
    "import imp\n",
    "from datetime import datetime, timedelta\n",
    "imp.reload(process_location)\n",
    "%matplotlib inline"
   ]
  },
  {
   "cell_type": "code",
   "execution_count": 235,
   "metadata": {
    "ExecuteTime": {
     "end_time": "2017-04-18T23:28:17.464090Z",
     "start_time": "2017-04-18T16:28:11.435292-07:00"
    },
    "scrolled": false
   },
   "outputs": [
    {
     "name": "stdout",
     "output_type": "stream",
     "text": [
      "75 KML files (ie 75 days) to concatenate\n"
     ]
    }
   ],
   "source": [
    "folder = '/Users/alexandreattia/Desktop/Work/Practice/LocationHistory/LocationHistoryData/'\n",
    "cookie_content = 'gsScrollPos=; _ga=GA1.1.499376354.1458118162; OGPC=732465152-21:699960320-14:448059392-45:527891456-115:904765440-5:979538944-3:; NID=101=tqyY6EIuMfyPA_4R8lQoBi1J4xRqgqtys7_LYTxMcGmJ-uH2kl6snZzvhppOGQWdVP9-f8_PnIQRhCuvSQcKAgwiuNnSveBzJn9MIO3vWYRA6QCJl3rFlw8_zXgCClR0G15QPaY1HX_peTq5OhyUcBge0c0sIKIneXRTy7OLsZq4dt3Sy9wSoHNg52PB7-nqTnDm4071yVAOlm2sWBLRTntEHT6gkuGPzL5qwlMHXYgAda6myU5Vw8sjUms01KtkvNv15JEY24F86h3tPcKbxXZqFnhFLF_-; SID=kgT5WMVhEsccYbfm_yITHcsGXiKUfYY-BPsG26VOh-rmOmZKulU9DQmdNY7vJJmduYXiWQ.; HSID=A9dygpUeleDXWXChh; SSID=AuatJj4wP3vf2PeV3; APISID=ZzMrJRe6AR4eIcz-/AIdBTGY21EnIIMJgz; SAPISID=WEW2s3tyVHa9d0Sn/AZ6_sTv_v54AIVhdv; CONSENT=YES+FR.fr+20150726-13-0; gsScrollPos='\n",
    "# process_location.create_kml_files('march', 29, 'april', 31, cookie_content, folder)\n",
    "df = process_location.full_df(folder)"
   ]
  },
  {
   "cell_type": "code",
   "execution_count": 237,
   "metadata": {
    "ExecuteTime": {
     "end_time": "2017-04-18T23:28:22.512967Z",
     "start_time": "2017-04-18T16:28:22.253494-07:00"
    }
   },
   "outputs": [
    {
     "name": "stdout",
     "output_type": "stream",
     "text": [
      "For 76 days, I have been driving 4.3 times/day : 5764.1 km in total (79.0 km/days).\n",
      "On average, each time I am driving is for 27.3 min and 18.2 km.\n",
      "For 76 days, I have been 49 times at Work for a total of 401.6 hours or 8.2 hours/day\n"
     ]
    },
    {
     "name": "stderr",
     "output_type": "stream",
     "text": [
      "/Users/alexandreattia/Desktop/Work/Practice/LocationHistory/process_location.py:178: SettingWithCopyWarning: \n",
      "A value is trying to be set on a copy of a slice from a DataFrame.\n",
      "Try using .loc[row_indexer,col_indexer] = value instead\n",
      "\n",
      "See the caveats in the documentation: http://pandas.pydata.org/pandas-docs/stable/indexing.html#indexing-view-versus-copy\n",
      "  df2['DurationMin'] = df2['Duration'].apply(get_sec) / 60\n"
     ]
    }
   ],
   "source": [
    "df_driving = process_location.time_at_doing(df, 'driving')\n",
    "df_work = process_location.time_at_place(df, 'Work')"
   ]
  },
  {
   "cell_type": "code",
   "execution_count": 21,
   "metadata": {
    "ExecuteTime": {
     "end_time": "2017-04-18T05:48:36.394054Z",
     "start_time": "2017-04-17T22:48:35.604864-07:00"
    },
    "scrolled": false
   },
   "outputs": [
    {
     "data": {
      "text/plain": [
       "<matplotlib.text.Text at 0x110022668>"
      ]
     },
     "execution_count": 21,
     "metadata": {},
     "output_type": "execute_result"
    },
    {
     "data": {
      "image/png": "[encoded data removed]",
      "text/plain": [
       "<matplotlib.figure.Figure at 0x10f9395c0>"
      ]
     },
     "metadata": {},
     "output_type": "display_data"
    }
   ],
   "source": [
    "time_per_day = {}\n",
    "dist_per_day = []\n",
    "for day in sorted(df_driving['BeginDate'].unique()):\n",
    "    time_per_day.update({day:df_driving[df_driving['BeginDate'] == day].DurationMin.sum()})\n",
    "    dist_per_day.append(df_driving[df_driving['BeginDate'] == day].Distance.sum()*0.001)\n",
    "\n",
    "x = range(len(time_per_day.values()))\n",
    "width = 1/1.5\n",
    "\n",
    "\n",
    "f, ax = plt.subplots(ncols=2, figsize=(15,6))\n",
    "ax[0].bar(x, list(time_per_day.values()), width)\n",
    "ax[0].axhline(np.mean(list(time_per_day.values())), color=\"red\")\n",
    "ax[0].set_title('Driving Duration (min)')\n",
    "\n",
    "ax[1].bar(x, dist_per_day, width)\n",
    "ax[1].axhline(np.mean(dist_per_day), color=\"red\")\n",
    "ax[1].set_title('Driving Distance (km)')"
   ]
  },
  {
   "cell_type": "code",
   "execution_count": 32,
   "metadata": {
    "ExecuteTime": {
     "end_time": "2017-04-18T16:59:48.785640Z",
     "start_time": "2017-04-18T09:59:48.357212-07:00"
    },
    "scrolled": false
   },
   "outputs": [
    {
     "data": {
      "text/plain": [
       "<matplotlib.text.Text at 0x1100f7240>"
      ]
     },
     "execution_count": 32,
     "metadata": {},
     "output_type": "execute_result"
    },
    {
     "data": {
      "image/png": "[encoded data removed]",
      "text/plain": [
       "<matplotlib.figure.Figure at 0x10fd40080>"
      ]
     },
     "metadata": {},
     "output_type": "display_data"
    }
   ],
   "source": [
    "time_per_day = {}\n",
    "for day in sorted(df_work['BeginDate']):\n",
    "    time_per_day.update({day:df_work[df_work['BeginDate'] == day].DurationMin.sum() / 60})\n",
    "\n",
    "x = range(len(time_per_day))\n",
    "width = 1/1.5\n",
    "plt.bar(x, time_per_day.values(), width)\n",
    "plt.axhline(np.mean(list(time_per_day.values())), color=\"red\")\n",
    "plt.title('Time per Day at work')"
   ]
  },
  {
   "cell_type": "code",
   "execution_count": 66,
   "metadata": {
    "ExecuteTime": {
     "end_time": "2017-04-18T17:58:29.828595Z",
     "start_time": "2017-04-18T10:58:29.819172-07:00"
    },
    "scrolled": false
   },
   "outputs": [
    {
     "data": {
      "text/plain": [
       "'On average, I am at work from 09:09:01 to 17:55:41'"
      ]
     },
     "execution_count": 66,
     "metadata": {},
     "output_type": "execute_result"
    }
   ],
   "source": [
    "a = pd.Series(pd.to_timedelta([elem for elem in df_work.BeginTime if elem < '10:30:00'])).mean().total_seconds()\n",
    "h,s = divmod(a, 3600)\n",
    "m,s = divmod(s, 60)\n",
    "b = pd.Series(pd.to_timedelta([elem for elem in df_work.EndTime if elem > '15:30:00'])).mean().total_seconds()\n",
    "h1,s1 = divmod(b, 3600)\n",
    "m1,s1 = divmod(s1, 60)\n",
    "\"On average, I am at work from %02d:%02d:%02d to %02d:%02d:%02d\" % (h, m, s, h1, m1, s1)"
   ]
  },
  {
   "cell_type": "code",
   "execution_count": 77,
   "metadata": {
    "ExecuteTime": {
     "end_time": "2017-04-18T20:38:16.622543Z",
     "start_time": "2017-04-18T13:38:16.616730-07:00"
    }
   },
   "outputs": [
    {
     "data": {
      "text/plain": [
       "(86002, '23:53:22')"
      ]
     },
     "execution_count": 77,
     "metadata": {},
     "output_type": "execute_result"
    }
   ],
   "source": [
    "process_location.get_sec(df.loc[0, 'BeginTime']), df.loc[0, 'BeginTime']"
   ]
  },
  {
   "cell_type": "code",
   "execution_count": null,
   "metadata": {
    "collapsed": true
   },
   "outputs": [],
   "source": [
    "## For Machine Learning with a time series, need to convert time to seconds (process_location.get_sec())"
   ]
  },
  {
   "cell_type": "code",
   "execution_count": 240,
   "metadata": {
    "ExecuteTime": {
     "end_time": "2017-04-18T23:31:14.719092Z",
     "start_time": "2017-04-18T16:31:14.716673-07:00"
    },
    "collapsed": true
   },
   "outputs": [],
   "source": [
    "import gmplot"
   ]
  },
  {
   "cell_type": "code",
   "execution_count": 284,
   "metadata": {
    "ExecuteTime": {
     "end_time": "2017-04-18T23:55:15.368274Z",
     "start_time": "2017-04-18T16:55:15.349125-07:00"
    },
    "scrolled": true
   },
   "outputs": [],
   "source": [
    "date = '2017-03-25'\n",
    "concatenation = np.concatenate(list(df[df.BeginDate == date].Track))\n",
    "longitudes, latitudes = [float(elem[0]) for elem in concatenation], [float(elem[1]) for elem in concatenation]\n",
    "\n",
    "g = gmplot.GoogleMapPlotter(37.428, -122.145, 9)\n",
    "g.scatter(latitudes, longitudes, 'b')\n",
    "g.draw('scatter.html')"
   ]
  },
  {
   "cell_type": "code",
   "execution_count": 279,
   "metadata": {
    "ExecuteTime": {
     "end_time": "2017-04-18T23:47:11.350458Z",
     "start_time": "2017-04-18T16:47:11.290861-07:00"
    },
    "collapsed": true
   },
   "outputs": [],
   "source": [
    "number_of_days = 30\n",
    "delta = datetime.strptime(df.loc[0, 'BeginDate'], '%Y-%m-%d') - timedelta(days=number_of_days)\n",
    "concatenation = np.concatenate(list(df[df.BeginDate > delta.strftime(\"%Y-%m-%d\")].Track))\n",
    "longitudes, latitudes = [float(elem[0]) for elem in concatenation], [float(elem[1]) for elem in concatenation]\n",
    "\n",
    "g = gmplot.GoogleMapPlotter(37.428, -122.145, 9)\n",
    "g.heatmap(latitudes, longitudes)\n",
    "g.draw('heatmap.html')"
   ]
  },
  {
   "cell_type": "code",
   "execution_count": null,
   "metadata": {
    "collapsed": true
   },
   "outputs": [],
   "source": []
  }
 ],
 "metadata": {
  "kernelspec": {
   "display_name": "workenv",
   "language": "python",
   "name": "workenv"
  },
  "language_info": {
   "codemirror_mode": {
    "name": "ipython",
    "version": 3
   },
   "file_extension": ".py",
   "mimetype": "text/x-python",
   "name": "python",
   "nbconvert_exporter": "python",
   "pygments_lexer": "ipython3",
   "version": "3.5.2"
  },
  "nav_menu": {},
  "toc": {
   "navigate_menu": true,
   "number_sections": true,
   "sideBar": true,
   "threshold": 6,
   "toc_cell": false,
   "toc_section_display": "block",
   "toc_window_display": false
  }
 },
 "nbformat": 4,
 "nbformat_minor": 2
}
