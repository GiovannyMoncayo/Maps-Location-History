{
 "cells": [
  {
   "cell_type": "code",
   "execution_count": 1,
   "metadata": {
    "ExecuteTime": {
     "end_time": "2017-04-19T15:07:47.444146Z",
     "start_time": "2017-04-19T08:07:45.880354-07:00"
    },
    "collapsed": true
   },
   "outputs": [],
   "source": [
    "import matplotlib.pyplot as plt\n",
    "import seaborn as sns\n",
    "import pandas as pd\n",
    "import numpy as np\n",
    "import process_location\n",
    "import imp\n",
    "from datetime import datetime, timedelta\n",
    "imp.reload(process_location)\n",
    "%matplotlib inline"
   ]
  },
  {
   "cell_type": "code",
   "execution_count": 2,
   "metadata": {
    "ExecuteTime": {
     "end_time": "2017-04-19T15:07:53.358646Z",
     "start_time": "2017-04-19T08:07:48.309450-07:00"
    },
    "scrolled": false
   },
   "outputs": [
    {
     "name": "stdout",
     "output_type": "stream",
     "text": [
      "75 KML files (ie 75 days) to concatenate\n"
     ]
    }
   ],
   "source": [
    "folder = '/Users/alexandreattia/Desktop/Work/Practice/LocationHistory/LocationHistoryData/'\n",
    "cookie_content = 'gsScrollPos=; _ga=GA1.1.499376354.1458118162; OGPC=732465152-21:699960320-14:448059392-45:527891456-115:904765440-5:979538944-3:; NID=101=tqyY6EIuMfyPA_4R8lQoBi1J4xRqgqtys7_LYTxMcGmJ-uH2kl6snZzvhppOGQWdVP9-f8_PnIQRhCuvSQcKAgwiuNnSveBzJn9MIO3vWYRA6QCJl3rFlw8_zXgCClR0G15QPaY1HX_peTq5OhyUcBge0c0sIKIneXRTy7OLsZq4dt3Sy9wSoHNg52PB7-nqTnDm4071yVAOlm2sWBLRTntEHT6gkuGPzL5qwlMHXYgAda6myU5Vw8sjUms01KtkvNv15JEY24F86h3tPcKbxXZqFnhFLF_-; SID=kgT5WMVhEsccYbfm_yITHcsGXiKUfYY-BPsG26VOh-rmOmZKulU9DQmdNY7vJJmduYXiWQ.; HSID=A9dygpUeleDXWXChh; SSID=AuatJj4wP3vf2PeV3; APISID=ZzMrJRe6AR4eIcz-/AIdBTGY21EnIIMJgz; SAPISID=WEW2s3tyVHa9d0Sn/AZ6_sTv_v54AIVhdv; CONSENT=YES+FR.fr+20150726-13-0; gsScrollPos='\n",
    "# process_location.create_kml_files('march', 29, 'april', 31, cookie_content, folder)\n",
    "df = process_location.full_df(folder)"
   ]
  },
  {
   "cell_type": "code",
   "execution_count": 187,
   "metadata": {
    "ExecuteTime": {
     "end_time": "2017-04-19T16:47:33.722901Z",
     "start_time": "2017-04-19T09:47:29.946744-07:00"
    }
   },
   "outputs": [
    {
     "name": "stderr",
     "output_type": "stream",
     "text": [
      "/Users/alexandreattia/Desktop/Work/Practice/LocationHistory/process_location.py:178: SettingWithCopyWarning: \n",
      "A value is trying to be set on a copy of a slice from a DataFrame.\n",
      "Try using .loc[row_indexer,col_indexer] = value instead\n",
      "\n",
      "See the caveats in the documentation: http://pandas.pydata.org/pandas-docs/stable/indexing.html#indexing-view-versus-copy\n",
      "  df2['DurationMin'] = df2['Duration'].apply(get_sec) / 60\n"
     ]
    },
    {
     "name": "stdout",
     "output_type": "stream",
     "text": [
      "For 76 days, I have been driving 4.3 times/day : 5764.1 km in total (79.0 km/days).\n",
      "On average, each time I am driving is for 27.3 min and 18.2 km.\n",
      "For 76 days, I have been 49 times at Work for a total of 401.6 hours or 8.2 hours/day\n"
     ]
    },
    {
     "name": "stderr",
     "output_type": "stream",
     "text": [
      "/Users/alexandreattia/Desktop/Work/workenv/lib/python3.5/site-packages/ipykernel/__main__.py:6: SettingWithCopyWarning: \n",
      "A value is trying to be set on a copy of a slice from a DataFrame.\n",
      "Try using .loc[row_indexer,col_indexer] = value instead\n",
      "\n",
      "See the caveats in the documentation: http://pandas.pydata.org/pandas-docs/stable/indexing.html#indexing-view-versus-copy\n"
     ]
    }
   ],
   "source": [
    "df_driving = process_location.time_at_doing(df, 'driving')\n",
    "df_work = process_location.time_at_place(df, 'Work')\n",
    "# Special, so not currently doable by the script\n",
    "df_home_all = df[(df.Address == 'Home')]\n",
    "df_home_week_day = df[(df.Address == 'Home') & (df.WeekDay < 5)]\n",
    "df_home_all['DurationMin'] = df_home_all['Duration'].apply(process_location.get_sec) / 60"
   ]
  },
  {
   "cell_type": "code",
   "execution_count": 179,
   "metadata": {
    "ExecuteTime": {
     "end_time": "2017-04-19T16:44:31.129717Z",
     "start_time": "2017-04-19T09:44:30.094766-07:00"
    }
   },
   "outputs": [
    {
     "name": "stdout",
     "output_type": "stream",
     "text": [
      "Before moving out, in average:\n",
      "-99.8min per day\n",
      "-63.4km per day\n",
      "-34.6km/h per day\n",
      "\n",
      "After moving out, in average:\n",
      "-123.7min per day\n",
      "-83.7km per day\n",
      "-41.1km/h per day\n"
     ]
    },
    {
     "data": {
      "image/png": "[encoded data removed]",
      "text/plain": [
       "<matplotlib.figure.Figure at 0x12e1b2cf8>"
      ]
     },
     "metadata": {},
     "output_type": "display_data"
    }
   ],
   "source": [
    "types = ['time','dist','speed']\n",
    "means = {t:[] for t in types}\n",
    "dicts = {t:{} for t in types}\n",
    "for day in sorted(df_driving['BeginDate'].unique()):\n",
    "    a = df_driving[df_driving['BeginDate'] == day].DurationMin.sum()\n",
    "    b = df_driving[df_driving['BeginDate'] == day].Distance.sum()*0.001\n",
    "    dicts['time'].update({day:a})\n",
    "    dicts['dist'].update({day:b})\n",
    "    dicts['speed'].update({day: b/(a/60)})\n",
    "\n",
    "\n",
    "width = 1/1.5\n",
    "index_move_out = 17\n",
    "f, ax = plt.subplots(ncols=3, figsize=(20,6))\n",
    "\n",
    "for i, (name, dic) in enumerate(dicts.items()):\n",
    "    x = range(len(dic.values()))\n",
    "    means[name].append(np.mean([elem[1] for elem in sorted(dic.items())][:index_move_out]))\n",
    "    means[name].append(np.mean([elem[1] for elem in sorted(dic.items())][index_move_out:]))\n",
    "    ax[i].bar(x, [elem[1] for elem in sorted(dic.items())], width)\n",
    "    ax[i].set_title('Driving %s' % name)\n",
    "    ax[i].axhline(means[name][0], xmin=0, xmax=(index_move_out+2)/len(x), color=\"red\")\n",
    "    ax[i].axhline(means[name][1], xmin=(index_move_out+2)/len(x), xmax=1,  color=\"red\")\n",
    "    ax[i].axvline(index_move_out, \n",
    "                  ymin=(means[name][0])/ax[i].axis()[3], \n",
    "                  ymax=(means[name][1])/ax[i].axis()[3],  \n",
    "                  color='r')\n",
    "\n",
    "print('Before moving out, in average:\\n-%.1fmin per day\\n-%.1fkm per day\\n-%.1fkm/h per day\\n'%(means['time'][0], means['dist'][0], means['speed'][0]))\n",
    "print('After moving out, in average:\\n-%.1fmin per day\\n-%.1fkm per day\\n-%.1fkm/h per day'%(means['time'][1], means['dist'][1], means['speed'][1]))"
   ]
  },
  {
   "cell_type": "code",
   "execution_count": 184,
   "metadata": {
    "ExecuteTime": {
     "end_time": "2017-04-19T16:46:05.948195Z",
     "start_time": "2017-04-19T09:46:05.579579-07:00"
    },
    "scrolled": false
   },
   "outputs": [
    {
     "data": {
      "text/plain": [
       "<matplotlib.text.Text at 0x131a3a048>"
      ]
     },
     "execution_count": 184,
     "metadata": {},
     "output_type": "execute_result"
    },
    {
     "data": {
      "image/png": "[encoded data removed]",
      "text/plain": [
       "<matplotlib.figure.Figure at 0x1318286a0>"
      ]
     },
     "metadata": {},
     "output_type": "display_data"
    }
   ],
   "source": [
    "time_per_day_work = {}\n",
    "for day in sorted(df_work['BeginDate']):\n",
    "    time_per_day_work.update({day:df_work[df_work['BeginDate'] == day].DurationMin.sum() / 60})\n",
    "\n",
    "x = range(len(time_per_day_work))\n",
    "width = 1/1.5\n",
    "# plt.bar(x,  [elem[1] for elem in sorted(time_per_day_work.items())], width)\n",
    "# plt.axhline(np.mean(list(time_per_day_work.values())), color=\"red\")\n",
    "# plt.title('Time per Day at work')\n",
    "\n",
    "mean_time_work_1 = np.mean([elem[1] for elem in sorted(time_per_day_work.items())][:index_move_out])\n",
    "mean_time_work_2 = np.mean([elem[1] for elem in sorted(time_per_day_work.items())][index_move_out:])\n",
    "plt.figure(figsize=(12,6))\n",
    "plt.bar(x, [elem[1] for elem in sorted(time_per_day_work.items())], width)\n",
    "plt.axhline(mean_time_work_1, xmin=0, xmax=(index_move_out+2)/len(x), color=\"red\")\n",
    "plt.axhline(mean_time_work_2, xmin=(index_move_out+2)/len(x), xmax=1,  color=\"red\")\n",
    "plt.title('Time (in hours) per Day at work')"
   ]
  },
  {
   "cell_type": "code",
   "execution_count": 211,
   "metadata": {
    "ExecuteTime": {
     "end_time": "2017-04-19T21:54:05.957194Z",
     "start_time": "2017-04-20T00:54:05.941214-07:00"
    },
    "scrolled": false
   },
   "outputs": [
    {
     "name": "stdout",
     "output_type": "stream",
     "text": [
      "On average, I am at work from 09:09:01 to 17:55:41\n",
      "On average, I am at home from 18:59:07 to 08:30:01\n"
     ]
    },
    {
     "name": "stderr",
     "output_type": "stream",
     "text": [
      "/Users/alexandreattia/Desktop/Work/workenv/lib/python3.5/site-packages/ipykernel/__main__.py:5: UserWarning: Boolean Series key will be reindexed to match DataFrame index.\n",
      "/Users/alexandreattia/Desktop/Work/workenv/lib/python3.5/site-packages/ipykernel/__main__.py:6: UserWarning: Boolean Series key will be reindexed to match DataFrame index.\n"
     ]
    }
   ],
   "source": [
    "a = pd.Series(pd.to_timedelta([elem for elem in df_work.BeginTime if elem < '10:30:00'])).mean().total_seconds()\n",
    "b = pd.Series(pd.to_timedelta([elem for elem in df_work.EndTime if elem > '15:30:00'])).mean().total_seconds()\n",
    "print(\"On average, I am at work from %s to %s\" % (process_location.sec_to_time(a)[3],process_location.sec_to_time(b)[3]))\n",
    "\n",
    "arriving_time = list(df_home_week_day[(df.BeginTime > '17:00:00') & (df.BeginTime < '21:00:00')].BeginTime)\n",
    "departing_time = list(df_home_week_day[(df.EndTime > '07:00:00') & (df.EndTime < '10:00:00')].EndTime)\n",
    "a = pd.Series(pd.to_timedelta(arriving_time)).mean().total_seconds()\n",
    "b = pd.Series(pd.to_timedelta(departing_time)).mean().total_seconds()\n",
    "print(\"On average, I am at home from %s to %s\" % (process_location.sec_to_time(a)[3],process_location.sec_to_time(b)[3]))"
   ]
  },
  {
   "cell_type": "code",
   "execution_count": 213,
   "metadata": {
    "ExecuteTime": {
     "end_time": "2017-04-19T21:54:30.111210Z",
     "start_time": "2017-04-20T00:54:30.108556-07:00"
    },
    "collapsed": true
   },
   "outputs": [],
   "source": [
    "## For Machine Learning with a time series, need to convert time to seconds (process_location.get_sec())"
   ]
  },
  {
   "cell_type": "code",
   "execution_count": 212,
   "metadata": {
    "ExecuteTime": {
     "end_time": "2017-04-19T21:54:28.983299Z",
     "start_time": "2017-04-20T00:54:28.980254-07:00"
    },
    "collapsed": true
   },
   "outputs": [],
   "source": [
    "## Using Gmplot in order to plot points on maps"
   ]
  },
  {
   "cell_type": "code",
   "execution_count": 5,
   "metadata": {
    "ExecuteTime": {
     "end_time": "2017-04-19T15:08:41.255789Z",
     "start_time": "2017-04-19T08:08:41.250303-07:00"
    },
    "collapsed": true
   },
   "outputs": [],
   "source": [
    "import gmplot"
   ]
  },
  {
   "cell_type": "code",
   "execution_count": 6,
   "metadata": {
    "ExecuteTime": {
     "end_time": "2017-04-19T15:08:52.606137Z",
     "start_time": "2017-04-19T08:08:52.593277-07:00"
    },
    "collapsed": true,
    "scrolled": true
   },
   "outputs": [],
   "source": [
    "date = '2017-04-01'\n",
    "concatenation = np.concatenate(list(df[df.BeginDate == date].Track))\n",
    "longitudes, latitudes = [float(elem[0]) for elem in concatenation], [float(elem[1]) for elem in concatenation]\n",
    "\n",
    "g = gmplot.GoogleMapPlotter(37.428, -122.145, 9)\n",
    "g.scatter(latitudes, longitudes, 'b')\n",
    "g.draw('scatter2.html')"
   ]
  },
  {
   "cell_type": "code",
   "execution_count": 279,
   "metadata": {
    "ExecuteTime": {
     "end_time": "2017-04-18T23:47:11.350458Z",
     "start_time": "2017-04-18T16:47:11.290861-07:00"
    },
    "collapsed": true
   },
   "outputs": [],
   "source": [
    "number_of_days = 30\n",
    "delta = datetime.strptime(df.loc[0, 'BeginDate'], '%Y-%m-%d') - timedelta(days=number_of_days)\n",
    "concatenation = np.concatenate(list(df[df.BeginDate > delta.strftime(\"%Y-%m-%d\")].Track))\n",
    "longitudes, latitudes = [float(elem[0]) for elem in concatenation], [float(elem[1]) for elem in concatenation]\n",
    "\n",
    "g = gmplot.GoogleMapPlotter(37.428, -122.145, 9)\n",
    "g.heatmap(latitudes, longitudes)\n",
    "g.draw('heatmap.html')"
   ]
  },
  {
   "cell_type": "code",
   "execution_count": null,
   "metadata": {
    "collapsed": true
   },
   "outputs": [],
   "source": []
  }
 ],
 "metadata": {
  "kernelspec": {
   "display_name": "workenv",
   "language": "python",
   "name": "workenv"
  },
  "language_info": {
   "codemirror_mode": {
    "name": "ipython",
    "version": 3
   },
   "file_extension": ".py",
   "mimetype": "text/x-python",
   "name": "python",
   "nbconvert_exporter": "python",
   "pygments_lexer": "ipython3",
   "version": "3.5.2"
  },
  "nav_menu": {},
  "toc": {
   "navigate_menu": true,
   "number_sections": true,
   "sideBar": true,
   "threshold": 6,
   "toc_cell": false,
   "toc_section_display": "block",
   "toc_window_display": false
  }
 },
 "nbformat": 4,
 "nbformat_minor": 2
}
